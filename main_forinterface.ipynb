{
 "cells": [
  {
   "cell_type": "code",
   "execution_count": null,
   "id": "c0d33195",
   "metadata": {},
   "outputs": [],
   "source": [
    "!python -u run.py --is_training 1 --version Wavelets --root_path ./dataset/temperature/ --data_path temperature_dataset3.csv --task_id SEMUAFITUR_TEMPERATURE_interface_WITHOUTLSTM1Hour_MS_Wavelets --model FEDformer --data custom --features MS --seq_len 24 --label_len 24 --pred_len 1 --e_layers 2 --d_layers 1 --factor 3 --enc_in 9 --dec_in 9 --c_out 1 --des 'Exp' --itr 1 --use_gpu True"
   ]
  },
  {
   "cell_type": "code",
   "execution_count": null,
   "id": "5c1af094",
   "metadata": {},
   "outputs": [],
   "source": [
    "!python -u run.py --is_training 1 --root_path ./dataset/kw/ --data_path kw_dataset4.csv --task_id CORRELATIONFITUR_KW_interface_WITHOUTLSTM1Hour_MS --model FEDformer --data custom --features MS --seq_len 24 --label_len 24 --pred_len 1 --e_layers 2 --d_layers 1 --factor 3 --enc_in 6 --dec_in 6 --c_out 1 --des 'Exp' --itr 1 --use_gpu True"
   ]
  }
 ],
 "metadata": {
  "language_info": {
   "name": "python"
  }
 },
 "nbformat": 4,
 "nbformat_minor": 5
}
