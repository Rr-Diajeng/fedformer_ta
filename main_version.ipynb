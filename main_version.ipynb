{
 "cells": [
  {
   "cell_type": "code",
   "execution_count": null,
   "id": "53ec8003",
   "metadata": {},
   "outputs": [],
   "source": [
    "!python -u run.py --is_training 1 --version Wavelets --root_path ./dataset/temperature/ --data_path temperature_dataset.csv --task_id TEMPERATURE_WITHLSTM1_Wavelets --model FEDformer --data custom --features M --seq_len 24 --label_len 24 --pred_len 24 --e_layers 2 --d_layers 1 --factor 3 --enc_in 3 --dec_in 3 --c_out 3 --des 'Exp' --itr 3 --use_gpu True"
   ]
  },
  {
   "cell_type": "code",
   "execution_count": null,
   "id": "c4757d3f",
   "metadata": {},
   "outputs": [],
   "source": [
    "!python -u run.py --is_training 1 --version Wavelets --root_path ./dataset/ghi/ --data_path ghi_dataset.csv --task_id GHI_WITHLSTM1_Wavelets --model FEDformer --data custom --features M --seq_len 24 --label_len 24 --pred_len 24 --e_layers 2 --d_layers 1 --factor 3 --enc_in 3 --dec_in 3 --c_out 3 --des 'Exp' --itr 3 --use_gpu True"
   ]
  },
  {
   "cell_type": "code",
   "execution_count": null,
   "id": "53b9ac8f",
   "metadata": {},
   "outputs": [],
   "source": [
    "!python -u run.py --is_training 1 --version Wavelets --root_path ./dataset/kw/ --data_path kw_dataset.csv --task_id KW_WITHLSTM1_Wavelets --model FEDformer --data custom --features M --seq_len 24 --label_len 24 --pred_len 24 --e_layers 2 --d_layers 1 --factor 3 --enc_in 3 --dec_in 3 --c_out 3 --des 'Exp' --itr 3 --use_gpu True"
   ]
  }
 ],
 "metadata": {
  "language_info": {
   "name": "python"
  }
 },
 "nbformat": 4,
 "nbformat_minor": 5
}
