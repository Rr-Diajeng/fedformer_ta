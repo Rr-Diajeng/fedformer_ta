{
 "cells": [
  {
   "cell_type": "code",
   "execution_count": null,
   "id": "be3c273b",
   "metadata": {},
   "outputs": [],
   "source": [
    "!python -u run.py --is_training 1 --root_path ./dataset/temperature/ --data_path temperature_dataset.csv --task_id TEMPERATURE_BLN --model FEDformer --data custom --features M --seq_len 24 --label_len 24 --pred_len 24 --e_layers 2 --d_layers 1 --factor 3 --enc_in 3 --dec_in 3 --c_out 3 --des 'Exp' --itr 3 --use_gpu True"
   ]
  },
  {
   "cell_type": "code",
   "execution_count": null,
   "id": "98cd2dd8",
   "metadata": {},
   "outputs": [],
   "source": [
    "!python -u run.py --is_training 1 --root_path ./dataset/ghi/ --data_path ghi_dataset.csv --task_id GHI_BLN --model FEDformer --data custom --features M --seq_len 24 --label_len 24 --pred_len 24 --e_layers 2 --d_layers 1 --factor 3 --enc_in 3 --dec_in 3 --c_out 3 --des 'Exp' --itr 3 --use_gpu True"
   ]
  },
  {
   "cell_type": "code",
   "execution_count": null,
   "id": "d2a3f8a8",
   "metadata": {},
   "outputs": [],
   "source": [
    "!python -u run.py --is_training 1 --root_path ./dataset/kw/ --data_path kw_dataset.csv --task_id KW_BLN --model FEDformer --data custom --features M --seq_len 24 --label_len 24 --pred_len 24 --e_layers 2 --d_layers 1 --factor 3 --enc_in 3 --dec_in 3 --c_out 3 --des 'Exp' --itr 3 --use_gpu True"
   ]
  }
 ],
 "metadata": {
  "kernelspec": {
   "display_name": ".venv",
   "language": "python",
   "name": "python3"
  },
  "language_info": {
   "codemirror_mode": {
    "name": "ipython",
    "version": 3
   },
   "file_extension": ".py",
   "mimetype": "text/x-python",
   "name": "python",
   "nbconvert_exporter": "python",
   "pygments_lexer": "ipython3",
   "version": "3.11.10"
  }
 },
 "nbformat": 4,
 "nbformat_minor": 5
}
