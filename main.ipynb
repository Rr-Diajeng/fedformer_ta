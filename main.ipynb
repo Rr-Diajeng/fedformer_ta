{
 "cells": [
  {
   "cell_type": "code",
   "execution_count": null,
   "id": "be3c273b",
   "metadata": {},
   "outputs": [],
   "source": [
    "!python -u run.py --is_training 1 --root_path ./dataset/temperature/ --data_path temperature_dataset2.csv --task_id NEWDATASET_TEMPERATURE_WITHOUTLSTM_MS --model FEDformer --data custom --features MS --seq_len 24 --label_len 24 --pred_len 24 --e_layers 2 --d_layers 1 --factor 3 --enc_in 7 --dec_in 7 --c_out 1 --des 'Exp' --itr 3 --use_gpu True"
   ]
  },
  {
   "cell_type": "code",
   "execution_count": null,
   "id": "98cd2dd8",
   "metadata": {},
   "outputs": [],
   "source": [
    "!python -u run.py --is_training 1 --root_path ./dataset/ghi/ --data_path ghi_dataset2.csv --task_id NEWDATASET_GHI_WITHOUTLSTM_MS --model FEDformer --data custom --features MS --seq_len 24 --label_len 24 --pred_len 24 --e_layers 2 --d_layers 1 --factor 3 --enc_in 5 --dec_in 5 --c_out 1 --des 'Exp' --itr 3 --use_gpu True"
   ]
  },
  {
   "cell_type": "code",
   "execution_count": null,
   "id": "d2a3f8a8",
   "metadata": {},
   "outputs": [],
   "source": [
    "!python -u run.py --is_training 1 --root_path ./dataset/kw/ --data_path kw_dataset2.csv --task_id NEWDATASET_KW_WITHOUTLSTM_MS --model FEDformer --data custom --features MS --seq_len 24 --label_len 24 --pred_len 24 --e_layers 2 --d_layers 1 --factor 3 --enc_in 7 --dec_in 7 --c_out 1 --des 'Exp' --itr 3 --use_gpu True"
   ]
  },
  {
   "cell_type": "code",
   "execution_count": null,
   "id": "6ee96ae2",
   "metadata": {},
   "outputs": [],
   "source": [
    "!python -u run.py --is_training 1 --version Wavelets --root_path ./dataset/temperature/ --data_path temperature_dataset2.csv --task_id NEWDATASET_TEMPERATURE_WITHOUTLSTM_MS_Wavelets --model FEDformer --data custom --features MS --seq_len 24 --label_len 24 --pred_len 24 --e_layers 2 --d_layers 1 --factor 3 --enc_in 7 --dec_in 7 --c_out 1 --des 'Exp' --itr 3 --use_gpu True"
   ]
  },
  {
   "cell_type": "code",
   "execution_count": null,
   "id": "09096b29",
   "metadata": {},
   "outputs": [],
   "source": [
    "!python -u run.py --is_training 1 --version Wavelets --root_path ./dataset/ghi/ --data_path ghi_dataset2.csv --task_id NEWDATASET_GHI_WITHOUTLSTM_MS_Wavelets --model FEDformer --data custom --features MS --seq_len 24 --label_len 24 --pred_len 24 --e_layers 2 --d_layers 1 --factor 3 --enc_in 5 --dec_in 5 --c_out 1 --des 'Exp' --itr 3 --use_gpu True"
   ]
  },
  {
   "cell_type": "code",
   "execution_count": null,
   "id": "b7d3353f",
   "metadata": {},
   "outputs": [],
   "source": [
    "!python -u run.py --is_training 1 --version Wavelets --root_path ./dataset/kw/ --data_path kw_dataset2.csv --task_id NEWDATASET_KW_WITHOUTLSTM_MS_Wavelets --model FEDformer --data custom --features MS --seq_len 24 --label_len 24 --pred_len 24 --e_layers 2 --d_layers 1 --factor 3 --enc_in 7 --dec_in 7 --c_out 1 --des 'Exp' --itr 3 --use_gpu True"
   ]
  },
  {
   "cell_type": "code",
   "execution_count": null,
   "id": "f9fe93b2",
   "metadata": {},
   "outputs": [],
   "source": [
    "!python -u run.py --is_training 1 --root_path ./dataset/temperature/ --data_path temperature_dataset2.csv --task_id NEWDATASET_TEMPERATURE_WITHOUTLSTM1Hour_MS --model FEDformer --data custom --features MS --seq_len 24 --label_len 24 --pred_len 1 --e_layers 2 --d_layers 1 --factor 3 --enc_in 7 --dec_in 7 --c_out 1 --des 'Exp' --itr 3 --use_gpu True"
   ]
  },
  {
   "cell_type": "code",
   "execution_count": null,
   "id": "20546f91",
   "metadata": {},
   "outputs": [],
   "source": [
    "!python -u run.py --is_training 1 --root_path ./dataset/ghi/ --data_path ghi_dataset2.csv --task_id NEWDATASET_GHI_WITHOUTLSTM1Hour_MS --model FEDformer --data custom --features MS --seq_len 24 --label_len 24 --pred_len 1 --e_layers 2 --d_layers 1 --factor 3 --enc_in 5 --dec_in 5 --c_out 1 --des 'Exp' --itr 3 --use_gpu True"
   ]
  },
  {
   "cell_type": "code",
   "execution_count": null,
   "id": "6a83abe0",
   "metadata": {},
   "outputs": [],
   "source": [
    "!python -u run.py --is_training 1 --root_path ./dataset/kw/ --data_path kw_dataset2.csv --task_id NEWDATASET_KW_WITHOUTLSTM1Hour_MS --model FEDformer --data custom --features MS --seq_len 24 --label_len 24 --pred_len 1 --e_layers 2 --d_layers 1 --factor 3 --enc_in 7 --dec_in 7 --c_out 1 --des 'Exp' --itr 3 --use_gpu True"
   ]
  },
  {
   "cell_type": "code",
   "execution_count": null,
   "id": "a88be04c",
   "metadata": {},
   "outputs": [],
   "source": [
    "!python -u run.py --is_training 1 --version Wavelets --root_path ./dataset/temperature/ --data_path temperature_dataset2.csv --task_id NEWDATASET_TEMPERATURE_WITHOUTLSTM1Hour_MS_Wavelets --model FEDformer --data custom --features MS --seq_len 24 --label_len 24 --pred_len 1 --e_layers 2 --d_layers 1 --factor 3 --enc_in 7 --dec_in 7 --c_out 1 --des 'Exp' --itr 3 --use_gpu True"
   ]
  },
  {
   "cell_type": "code",
   "execution_count": null,
   "id": "6521a8a5",
   "metadata": {},
   "outputs": [],
   "source": [
    "!python -u run.py --is_training 1 --version Wavelets --root_path ./dataset/ghi/ --data_path ghi_dataset2.csv --task_id NEWDATASET_GHI_WITHOUTLSTM1Hour_MS_Wavelets --model FEDformer --data custom --features MS --seq_len 24 --label_len 24 --pred_len 1 --e_layers 2 --d_layers 1 --factor 3 --enc_in 5 --dec_in 5 --c_out 1 --des 'Exp' --itr 3 --use_gpu True"
   ]
  },
  {
   "cell_type": "code",
   "execution_count": null,
   "id": "02b6d554",
   "metadata": {},
   "outputs": [],
   "source": [
    "!python -u run.py --is_training 1 --version Wavelets --root_path ./dataset/kw/ --data_path kw_dataset2.csv --task_id NEWDATASET_KW_WITHOUTLSTM1Hour_MS_Wavelets --model FEDformer --data custom --features MS --seq_len 24 --label_len 24 --pred_len 1 --e_layers 2 --d_layers 1 --factor 3 --enc_in 7 --dec_in 7 --c_out 1 --des 'Exp' --itr 3 --use_gpu True"
   ]
  }
 ],
 "metadata": {
  "kernelspec": {
   "display_name": ".venv",
   "language": "python",
   "name": "python3"
  },
  "language_info": {
   "codemirror_mode": {
    "name": "ipython",
    "version": 3
   },
   "file_extension": ".py",
   "mimetype": "text/x-python",
   "name": "python",
   "nbconvert_exporter": "python",
   "pygments_lexer": "ipython3",
   "version": "3.11.10"
  }
 },
 "nbformat": 4,
 "nbformat_minor": 5
}
