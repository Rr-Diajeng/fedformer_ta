{
 "cells": [
  {
   "cell_type": "code",
   "execution_count": null,
   "id": "a88be04c",
   "metadata": {},
   "outputs": [],
   "source": [
    "!python -u run.py --is_training 1 --version Wavelets --root_path ./dataset/temperature/ --data_path temperature_dataset.csv --task_id TEMPERATURE_WITHOUTLSTM1Hour_MS_30_Wavelets --model FEDformer --data custom --features MS --seq_len 24 --label_len 24 --pred_len 1 --e_layers 2 --d_layers 1 --factor 3 --enc_in 3 --dec_in 3 --c_out 3 --des 'Exp' --itr 30 --use_gpu True"
   ]
  },
  {
   "cell_type": "code",
   "execution_count": null,
   "id": "6521a8a5",
   "metadata": {},
   "outputs": [],
   "source": [
    "!python -u run.py --is_training 1 --version Wavelets --root_path ./dataset/ghi/ --data_path ghi_dataset.csv --task_id GHI_WITHOUTLSTM1Hour_MS_30_Wavelets --model FEDformer --data custom --features MS --seq_len 24 --label_len 24 --pred_len 1 --e_layers 2 --d_layers 1 --factor 3 --enc_in 3 --dec_in 3 --c_out 3 --des 'Exp' --itr 30 --use_gpu True"
   ]
  },
  {
   "cell_type": "code",
   "execution_count": null,
   "id": "02b6d554",
   "metadata": {},
   "outputs": [],
   "source": [
    "!python -u run.py --is_training 1 --version Wavelets --root_path ./dataset/kw/ --data_path kw_dataset.csv --task_id KW_WITHOUTLSTM1Hour_MS_30_Wavelets --model FEDformer --data custom --features MS --seq_len 24 --label_len 24 --pred_len 1 --e_layers 2 --d_layers 1 --factor 3 --enc_in 3 --dec_in 3 --c_out 3 --des 'Exp' --itr 30 --use_gpu True"
   ]
  }
 ],
 "metadata": {
  "kernelspec": {
   "display_name": ".venv",
   "language": "python",
   "name": "python3"
  },
  "language_info": {
   "codemirror_mode": {
    "name": "ipython",
    "version": 3
   },
   "file_extension": ".py",
   "mimetype": "text/x-python",
   "name": "python",
   "nbconvert_exporter": "python",
   "pygments_lexer": "ipython3",
   "version": "3.11.9"
  }
 },
 "nbformat": 4,
 "nbformat_minor": 5
}
