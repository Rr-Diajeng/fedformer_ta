{
 "cells": [
  {
   "cell_type": "code",
   "execution_count": null,
   "id": "f9fe93b2",
   "metadata": {},
   "outputs": [],
   "source": [
    "!python -u run.py --is_training 1 --root_path ./dataset/temperature/ --data_path temperature_dataset3.csv --task_id SEMUAFITUR_TEMPERATURE_WITHOUTLSTM1Hour_MS --model FEDformer --data custom --features MS --seq_len 24 --label_len 24 --pred_len 1 --e_layers 2 --d_layers 1 --factor 3 --enc_in 9 --dec_in 9 --c_out 1 --des 'Exp' --itr 15 --use_gpu True"
   ]
  },
  {
   "cell_type": "code",
   "execution_count": null,
   "id": "20546f91",
   "metadata": {},
   "outputs": [],
   "source": [
    "!python -u run.py --is_training 1 --root_path ./dataset/ghi/ --data_path ghi_dataset3.csv --task_id SEMUAFITUR_GHI_WITHOUTLSTM1Hour_MS --model FEDformer --data custom --features MS --seq_len 24 --label_len 24 --pred_len 1 --e_layers 2 --d_layers 1 --factor 3 --enc_in 9 --dec_in 9 --c_out 1 --des 'Exp' --itr 15 --use_gpu True"
   ]
  },
  {
   "cell_type": "code",
   "execution_count": null,
   "id": "6a83abe0",
   "metadata": {},
   "outputs": [],
   "source": [
    "!python -u run.py --is_training 1 --root_path ./dataset/kw/ --data_path kw_dataset3.csv --task_id SEMUAFITUR_KW_WITHOUTLSTM1Hour_MS --model FEDformer --data custom --features MS --seq_len 24 --label_len 24 --pred_len 1 --e_layers 2 --d_layers 1 --factor 3 --enc_in 9 --dec_in 9 --c_out 1 --des 'Exp' --itr 15 --use_gpu True"
   ]
  },
  {
   "cell_type": "code",
   "execution_count": null,
   "id": "a88be04c",
   "metadata": {},
   "outputs": [],
   "source": [
    "!python -u run.py --is_training 1 --version Wavelets --root_path ./dataset/temperature/ --data_path temperature_dataset3.csv --task_id SEMUAFITUR_TEMPERATURE_WITHOUTLSTM1Hour_MS_Wavelets --model FEDformer --data custom --features MS --seq_len 24 --label_len 24 --pred_len 1 --e_layers 2 --d_layers 1 --factor 3 --enc_in 9 --dec_in 9 --c_out 1 --des 'Exp' --itr 15 --use_gpu True"
   ]
  },
  {
   "cell_type": "code",
   "execution_count": null,
   "id": "6521a8a5",
   "metadata": {},
   "outputs": [],
   "source": [
    "!python -u run.py --is_training 1 --version Wavelets --root_path ./dataset/ghi/ --data_path ghi_dataset3.csv --task_id SEMUAFITUR_GHI_WITHOUTLSTM1Hour_MS_Wavelets --model FEDformer --data custom --features MS --seq_len 24 --label_len 24 --pred_len 1 --e_layers 2 --d_layers 1 --factor 3 --enc_in 9 --dec_in 9 --c_out 1 --des 'Exp' --itr 15 --use_gpu True"
   ]
  },
  {
   "cell_type": "code",
   "execution_count": null,
   "id": "02b6d554",
   "metadata": {},
   "outputs": [],
   "source": [
    "!python -u run.py --is_training 1 --version Wavelets --root_path ./dataset/kw/ --data_path kw_dataset3.csv --task_id SEMUAFITUR_KW_WITHOUTLSTM1Hour_MS_Wavelets --model FEDformer --data custom --features MS --seq_len 24 --label_len 24 --pred_len 1 --e_layers 2 --d_layers 1 --factor 3 --enc_in 9 --dec_in 9 --c_out 1 --des 'Exp' --itr 15 --use_gpu True"
   ]
  },
  {
   "cell_type": "code",
   "execution_count": null,
   "id": "46574620",
   "metadata": {},
   "outputs": [],
   "source": [
    "!python -u run.py --is_training 1 --root_path ./dataset/temperature/ --data_path temperature_dataset4.csv --task_id CORRELATIONFITUR_TEMPERATURE_WITHOUTLSTM1Hour_MS --model FEDformer --data custom --features MS --seq_len 24 --label_len 24 --pred_len 1 --e_layers 2 --d_layers 1 --factor 3 --enc_in 7 --dec_in 7 --c_out 1 --des 'Exp' --itr 15 --use_gpu True"
   ]
  },
  {
   "cell_type": "code",
   "execution_count": null,
   "id": "b86e85d8",
   "metadata": {},
   "outputs": [],
   "source": [
    "!python -u run.py --is_training 1 --root_path ./dataset/ghi/ --data_path ghi_dataset4.csv --task_id CORRELATIONFITUR_GHI_WITHOUTLSTM1Hour_MS --model FEDformer --data custom --features MS --seq_len 24 --label_len 24 --pred_len 1 --e_layers 2 --d_layers 1 --factor 3 --enc_in 5 --dec_in 5 --c_out 1 --des 'Exp' --itr 15 --use_gpu True"
   ]
  },
  {
   "cell_type": "code",
   "execution_count": null,
   "id": "260adc4f",
   "metadata": {},
   "outputs": [],
   "source": [
    "!python -u run.py --is_training 1 --root_path ./dataset/kw/ --data_path kw_dataset4.csv --task_id CORRELATIONFITUR_KW_WITHOUTLSTM1Hour_MS --model FEDformer --data custom --features MS --seq_len 24 --label_len 24 --pred_len 1 --e_layers 2 --d_layers 1 --factor 3 --enc_in 6 --dec_in 6 --c_out 1 --des 'Exp' --itr 15 --use_gpu True"
   ]
  },
  {
   "cell_type": "code",
   "execution_count": null,
   "id": "66c6a040",
   "metadata": {},
   "outputs": [],
   "source": [
    "!python -u run.py --is_training 1 --version Wavelets --root_path ./dataset/temperature/ --data_path temperature_dataset4.csv --task_id CORRELATIONFITUR_TEMPERATURE_WITHOUTLSTM1Hour_MS_Wavelets --model FEDformer --data custom --features MS --seq_len 24 --label_len 24 --pred_len 1 --e_layers 2 --d_layers 1 --factor 3 --enc_in 7 --dec_in 7 --c_out 1 --des 'Exp' --itr 15 --use_gpu True"
   ]
  },
  {
   "cell_type": "code",
   "execution_count": null,
   "id": "19905d72",
   "metadata": {},
   "outputs": [],
   "source": [
    "!python -u run.py --is_training 1 --version Wavelets --root_path ./dataset/ghi/ --data_path ghi_dataset4.csv --task_id CORRELATIONFITUR_GHI_WITHOUTLSTM1Hour_MS_Wavelets --model FEDformer --data custom --features MS --seq_len 24 --label_len 24 --pred_len 1 --e_layers 2 --d_layers 1 --factor 3 --enc_in 5 --dec_in 5 --c_out 1 --des 'Exp' --itr 15 --use_gpu True"
   ]
  },
  {
   "cell_type": "code",
   "execution_count": null,
   "id": "7e1f868b",
   "metadata": {},
   "outputs": [],
   "source": [
    "!python -u run.py --is_training 1 --version Wavelets --root_path ./dataset/kw/ --data_path kw_dataset4.csv --task_id CORRELATIONFITUR_KW_WITHOUTLSTM1Hour_MS_Wavelets --model FEDformer --data custom --features MS --seq_len 24 --label_len 24 --pred_len 1 --e_layers 2 --d_layers 1 --factor 3 --enc_in 6 --dec_in 6 --c_out 1 --des 'Exp' --itr 15 --use_gpu True"
   ]
  }
 ],
 "metadata": {
  "kernelspec": {
   "display_name": ".venv",
   "language": "python",
   "name": "python3"
  },
  "language_info": {
   "codemirror_mode": {
    "name": "ipython",
    "version": 3
   },
   "file_extension": ".py",
   "mimetype": "text/x-python",
   "name": "python",
   "nbconvert_exporter": "python",
   "pygments_lexer": "ipython3",
   "version": "3.11.10"
  }
 },
 "nbformat": 4,
 "nbformat_minor": 5
}
